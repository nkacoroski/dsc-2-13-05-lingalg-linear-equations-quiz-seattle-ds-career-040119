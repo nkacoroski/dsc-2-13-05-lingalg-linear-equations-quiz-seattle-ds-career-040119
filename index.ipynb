{
 "cells": [
  {
   "cell_type": "markdown",
   "metadata": {},
   "source": [
    "# Systems of Linear Equations - Quiz\n",
    "\n",
    "## Introduction\n",
    "Following scenarios present problems that can be solved as system of equations, while performing substitutions and eliminations as we saw in the previous lesson. \n",
    "\n",
    "* Solve these problems by hand, showing all the steps to work out the unknown variable values \n",
    "* Verify your answers by showing the calculated values satisfy all equations\n",
    "\n",
    "## Objectives\n",
    "You will be able to:\n",
    "* Describe a system of linear equations for solving simple analytical problems\n",
    "* Solve a system of equations using elimination and substitution\n",
    "\n",
    "## Exercise 1\n",
    "#### Joe paid 12 dollars for 4 cups of coffee and 4 cups of tea. 3 cups of coffee cost as much as 2 cups of tea. \n",
    "\n",
    "#### What would be the total cost of 5 cups of coffee and 5 cups of tea ?"
   ]
  },
  {
   "cell_type": "markdown",
   "metadata": {},
   "source": [
    "## Solution\n",
    "\n",
    "> Let x be the unit price of coffee and y be the unit price of tea"
   ]
  },
  {
   "cell_type": "markdown",
   "metadata": {},
   "source": [
    "12 = 4c + 4t <br>\n",
    "3c = 2t <br>\n",
    "t = 1.5c <br>\n",
    "12 = 4c + 4(1.5c) <br>\n",
    "12 = 4c + 6c <br>\n",
    "12 = 10c <br>\n",
    "c = 12/10 = 1.20 <br>\n",
    "t = 1.5c = 1.5(1.20) = 1.80 <br>\n",
    "5c + 5t = 5(1.2) + 5(1.8) = 6 + 9 = 15"
   ]
  },
  {
   "cell_type": "markdown",
   "metadata": {},
   "source": [
    "\n",
    "\n",
    "## Exercise 2\n",
    "\n",
    "#### Jim has more money than Bob.  If Jim gave Bob 20 dollars , they would have the same amount.  While if Bob gave Jim 22 dollars, Jim would then have twice as much as Bob. \n",
    "\n",
    "#### How much does each one actually have?"
   ]
  },
  {
   "cell_type": "markdown",
   "metadata": {},
   "source": [
    "## Solution\n",
    "> Let x be the amount of money that Jim has and y be the amount that Bob has."
   ]
  },
  {
   "cell_type": "markdown",
   "metadata": {},
   "source": [
    "x - 20 = y + 20 <br>\n",
    "2(y - 22) = x + 22 <br>\n",
    "x = y + 40 <br>\n",
    "2y - 44 = x + 22 <br>\n",
    "2y - 44 = y + 40 + 22 = y + 62 <br>\n",
    "y = 18 <br>\n",
    "x = 18 + 40 = 58"
   ]
  },
  {
   "cell_type": "markdown",
   "metadata": {},
   "source": [
    "## Exercise 3\n",
    "\n",
    "#### Mia has 30 coins, consisting of quarters (25 cents) and dimes (10 cents), which total to the amount 5.70 dollars.  \n",
    "#### How many of each does she have?"
   ]
  },
  {
   "cell_type": "markdown",
   "metadata": {},
   "source": [
    "30 = q + d <br>\n",
    "5.70 = 0.25q + 0.1d <br>\n",
    "q = 30 - d <br>\n",
    "5.7 = 0.25(30 - d) + 0.1d = 7.5 - 0.25d + 0.1d = 7.5 - 0.15d <br>\n",
    "1.8 = -0.15d <br>\n",
    "-12 = de\n"
   ]
  },
  {
   "cell_type": "markdown",
   "metadata": {},
   "source": [
    "## Level up - Optional \n",
    "For more pratice with linear equations, Visit following links for more complex equations and online answers verification:\n",
    "\n",
    "* https://www.transum.org/software/SW/Starter_of_the_day/Students/Simultaneous_Equations.asp?Level=6\n",
    "* https://www.transum.org/software/SW/Starter_of_the_day/Students/Simultaneous_Equations.asp?Level=7"
   ]
  },
  {
   "cell_type": "markdown",
   "metadata": {},
   "source": [
    "## Summary\n",
    "In this lesson, we saw how to solve linear equations by hand to find the co-efficient values. We shall now move forward to have a deeper look into vectors and matrices and how Python and Numpy can help us solve more complex equations in an analytical context. "
   ]
  }
 ],
 "metadata": {
  "kernelspec": {
   "display_name": "Python 3",
   "language": "python",
   "name": "python3"
  },
  "language_info": {
   "codemirror_mode": {
    "name": "ipython",
    "version": 3
   },
   "file_extension": ".py",
   "mimetype": "text/x-python",
   "name": "python",
   "nbconvert_exporter": "python",
   "pygments_lexer": "ipython3",
   "version": "3.6.6"
  }
 },
 "nbformat": 4,
 "nbformat_minor": 2
}
